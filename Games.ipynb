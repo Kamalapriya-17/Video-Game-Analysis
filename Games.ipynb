{
  "nbformat": 4,
  "nbformat_minor": 0,
  "metadata": {
    "colab": {
      "provenance": [],
      "authorship_tag": "ABX9TyO+bSMAH14wZ9jVDLT0rqRp",
      "include_colab_link": true
    },
    "kernelspec": {
      "name": "python3",
      "display_name": "Python 3"
    },
    "language_info": {
      "name": "python"
    }
  },
  "cells": [
    {
      "cell_type": "markdown",
      "metadata": {
        "id": "view-in-github",
        "colab_type": "text"
      },
      "source": [
        "<a href=\"https://colab.research.google.com/github/Kamalapriya-17/Video-Game-Analysis/blob/main/Games.ipynb\" target=\"_parent\"><img src=\"https://colab.research.google.com/assets/colab-badge.svg\" alt=\"Open In Colab\"/></a>"
      ]
    },
    {
      "cell_type": "code",
      "source": [
        "ls"
      ],
      "metadata": {
        "colab": {
          "base_uri": "https://localhost:8080/"
        },
        "id": "H0ZqiSWSV5BE",
        "outputId": "75db89e8-e97a-441a-fa1c-d6bdb7b17f5b"
      },
      "execution_count": null,
      "outputs": [
        {
          "output_type": "stream",
          "name": "stdout",
          "text": [
            "\u001b[0m\u001b[01;34msample_data\u001b[0m/\n"
          ]
        }
      ]
    },
    {
      "cell_type": "code",
      "source": [
        "import pandas as pd\n",
        "import re\n",
        "import ast\n",
        "from sklearn.preprocessing import MultiLabelBinarizer\n",
        "from sklearn.preprocessing import LabelEncoder\n",
        "\n",
        "\n",
        "df=pd.read_csv('games.csv')\n",
        "\n",
        "df.columns = df.columns.str.lower().str.replace(' ', '_')\n",
        "\n",
        "def convert_k_to_number(x):\n",
        "    if isinstance(x, str) and 'K' in x:\n",
        "        return float(x.replace('K', '')) * 1000\n",
        "    return x\n",
        "\n",
        "for col in ['times_listed', 'number_of_reviews', 'plays', 'playing', 'backlogs', 'wishlist']:\n",
        "    if col in df.columns:\n",
        "        df[col] = df[col].apply(convert_k_to_number)\n",
        "\n",
        "df['release_date'] = pd.to_datetime(df['release_date'], errors='coerce')\n",
        "\n",
        "df['days_since_release'] = (df['release_date'] - df['release_date'].min()).dt.days\n",
        "\n",
        "df['release_date']= df['days_since_release']\n",
        "\n",
        "#Duplicates\n",
        "df.duplicated().sum()\n",
        "df.drop_duplicates(inplace=True)\n",
        "#df.to_csv('games.csv',index=False)\n",
        "\n",
        "\n",
        "\n",
        "#split to numerical and categorical\n",
        "df_cat=df.select_dtypes(include='object')\n",
        "df_num=df.select_dtypes(exclude='object')\n",
        "print(df_cat.columns)\n",
        "print(df_num.columns)\n",
        "#find null values\n",
        "\n",
        "df_num.isnull().sum()\n",
        "df_cat.isnull().sum()\n",
        "\n",
        "\n",
        "#find outliers\n",
        "\n",
        "def outlier_capping(x):\n",
        "  q1=x.quantile(0.25)\n",
        "  q3=x.quantile(0.75)\n",
        "  iqr=q3-q1\n",
        "  lower=q1-1.5*iqr\n",
        "  upper=q3+1.5*iqr\n",
        "  x=x.clip(lower=lower,upper=upper)\n",
        "  return x\n",
        "\n",
        "for i in df_num.columns:\n",
        "  df_num[i]=outlier_capping(df_num[i])\n",
        "\n",
        "for i in [\"title\",\"summary\",\"reviews\"] :\n",
        "\n",
        "    encoder=LabelEncoder()\n",
        "    df_cat[i]=encoder.fit_transform(df_cat[i])\n",
        "\n",
        "\n",
        "def parse_genres(genre_string):\n",
        "    try:\n",
        "        return ast.literal_eval(genre_string)\n",
        "    except (ValueError, SyntaxError):\n",
        "        return []\n",
        "\n",
        "print(df_cat['genres'])\n",
        "df_cat['genres'] = df_cat['genres'].apply(parse_genres)\n",
        "\n",
        "mlb = MultiLabelBinarizer()\n",
        "genres_encoded = pd.DataFrame(mlb.fit_transform(df_cat['genres']), columns=mlb.classes_, index=df.index)\n",
        "\n",
        "df_cat = df_cat.join(genres_encoded)\n",
        "df_cat = df_cat.drop('genres', axis=1)"
      ],
      "metadata": {
        "colab": {
          "base_uri": "https://localhost:8080/"
        },
        "id": "gQ9uP6jg8nmd",
        "outputId": "ff5238db-6215-4ba4-a567-93c147a45a53"
      },
      "execution_count": null,
      "outputs": [
        {
          "output_type": "stream",
          "name": "stdout",
          "text": [
            "Index(['title', 'team', 'times_listed', 'number_of_reviews', 'genres',\n",
            "       'summary', 'reviews', 'plays', 'playing', 'backlogs', 'wishlist'],\n",
            "      dtype='object')\n",
            "Index(['unnamed:_0', 'release_date', 'rating', 'days_since_release'], dtype='object')\n",
            "0                                    ['Adventure', 'RPG']\n",
            "1                ['Adventure', 'Brawler', 'Indie', 'RPG']\n",
            "2                                    ['Adventure', 'RPG']\n",
            "3       ['Adventure', 'Indie', 'RPG', 'Turn Based Stra...\n",
            "4                      ['Adventure', 'Indie', 'Platform']\n",
            "                              ...                        \n",
            "1507                     ['Adventure', 'Point-and-Click']\n",
            "1508                                 ['Arcade', 'Racing']\n",
            "1509                                   ['Brawler', 'RPG']\n",
            "1510    ['Adventure', 'RPG', 'Strategy', 'Tactical', '...\n",
            "1511                              ['Adventure', 'Puzzle']\n",
            "Name: genres, Length: 1512, dtype: object\n"
          ]
        }
      ]
    },
    {
      "cell_type": "code",
      "source": [],
      "metadata": {
        "id": "BOAW-uESaInd"
      },
      "execution_count": null,
      "outputs": []
    },
    {
      "cell_type": "code",
      "metadata": {
        "colab": {
          "base_uri": "https://localhost:8080/"
        },
        "id": "99222ae9",
        "outputId": "e043f4b8-60a0-4135-bb28-bbfc31a71e5e"
      },
      "source": [
        "merged_df = df_num.join(df_cat)\n",
        "\n",
        "merged_df.to_csv('cleaned_games.csv', index=False)\n",
        "\n",
        "print(\"Merged DataFrame created and saved to 'cleaned_games.csv'\")"
      ],
      "execution_count": null,
      "outputs": [
        {
          "output_type": "stream",
          "name": "stdout",
          "text": [
            "Merged DataFrame created and saved to 'cleaned_games.csv'\n"
          ]
        }
      ]
    },
    {
      "cell_type": "code",
      "source": [],
      "metadata": {
        "id": "bUUcZXJfb_z7"
      },
      "execution_count": null,
      "outputs": []
    }
  ]
}